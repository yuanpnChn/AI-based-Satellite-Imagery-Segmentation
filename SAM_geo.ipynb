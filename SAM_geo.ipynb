{
  "nbformat": 4,
  "nbformat_minor": 0,
  "metadata": {
    "colab": {
      "provenance": [],
      "toc_visible": true
    },
    "kernelspec": {
      "name": "python3",
      "display_name": "Python 3"
    },
    "language_info": {
      "name": "python"
    }
  },
  "cells": [
    {
      "cell_type": "markdown",
      "source": [
        "# **Readme:\n",
        "SAM_geo.ipynb   --基于SAM模型的遥感卫星影像分割\n",
        "*   功能:\n",
        "1. 完成云端或者本地任意范围、尺度、分辨率卫星影像的加载、交互和下载。\n",
        "2. 使用SAM分割模型完成影像分割任务,并将分割结果对象保存为带有地理参考的.tif和.shp文件\n",
        "3. 在云端实时查看分割结果\n",
        "\n",
        "\n",
        "*   使用方法:\n",
        "\n",
        "为了加快运行的效率,减小工具包和SAM模型安装的时间,建议在Google Colab平台上使用GPU模式运行\n",
        "\n",
        "\n",
        "\n",
        "*   参考文献:\n",
        "1. Kirillov, A., Mintun, E., Ravi, N., Mao, H., Rolland, C., Gustafson, L., ... & Girshick, R. (2023). Segment anything. arXiv preprint arXiv:2304.02643.https://doi.org/10.48550/arXiv.2304.02643\n",
        "2. Qiusheng Wu. samgeo: A Python package for segmenting geospatial data with the Segment Anything Model (SAM)\n",
        "\n",
        "\n",
        "* 参考代码:\n",
        "\n",
        "  https://github.com/opengeos/segment-geospatial/tree/main\n",
        "\n",
        "\n",
        "\n",
        "\n",
        "\n",
        "\n",
        "\n",
        "\n",
        "\n"
      ],
      "metadata": {
        "id": "hPW6I-6g4fU9"
      }
    },
    {
      "cell_type": "markdown",
      "source": [
        "# 1.安装并导入工具包\n",
        "工具包内容:\n",
        "segment-geospatial\n",
        "leafmap\n",
        "localtileserver\n",
        "\n",
        "取消下句代码的注释,在GPU运行类型下即可完成必需工具包的安装\n",
        "安装可能需要1-2分钟,请耐心等待\n",
        "完成安装后,直接导入即可"
      ],
      "metadata": {
        "id": "XR7AGDLY4uKk"
      }
    },
    {
      "cell_type": "code",
      "source": [
        "# %pip install segment-geospatial leafmap localtileserver"
      ],
      "metadata": {
        "id": "IDPEQ9NC41FQ"
      },
      "execution_count": null,
      "outputs": []
    },
    {
      "cell_type": "code",
      "source": [
        "import os\n",
        "import leafmap\n",
        "from samgeo import SamGeo, tms_to_geotiff, get_basemaps"
      ],
      "metadata": {
        "id": "P7A8fZlC5BQJ"
      },
      "execution_count": null,
      "outputs": []
    },
    {
      "cell_type": "markdown",
      "source": [
        "# 2.创建交互地图"
      ],
      "metadata": {
        "id": "8D9_3Tc_5FR9"
      }
    },
    {
      "cell_type": "code",
      "source": [
        "m = leafmap.Map(center=[29.676840, -95.369222], zoom=19) # 设置地图中心的经纬坐标和聚焦等级\n",
        "m.add_basemap(\"SATELLITE\")  # 将底图设置为卫星影像，可使用地图右上角的ToolBar更改底图类型\n",
        "m  # 显示地图"
      ],
      "metadata": {
        "id": "oOTMG1AW5Hxf"
      },
      "execution_count": null,
      "outputs": []
    },
    {
      "cell_type": "markdown",
      "source": [
        "**完成交互地图搭建后,使用左侧绘图工具手动绘制特定ROI区域,进行后续分割工作**\n",
        "\n",
        "\n",
        "如果用户没有绘制ROI区域,会以[-95.3704, 29.6762, -95.368, 29.6775]区域为默认的分割对象"
      ],
      "metadata": {
        "id": "SSSa6N-M5N5T"
      }
    },
    {
      "cell_type": "code",
      "source": [
        "if m.user_roi_bounds() is not None:\n",
        "    bbox = m.user_roi_bounds()\n",
        "else:\n",
        "    bbox = [-95.3714, 29.6746, -95.3673, 29.6779]"
      ],
      "metadata": {
        "id": "WXGVNcm65RFn"
      },
      "execution_count": null,
      "outputs": []
    },
    {
      "cell_type": "code",
      "source": [
        "m.user_roi_bounds()  # 查看划定的ROI范围"
      ],
      "metadata": {
        "id": "MblJsDd25RSK"
      },
      "execution_count": null,
      "outputs": []
    },
    {
      "cell_type": "markdown",
      "source": [
        "# 3.下载地图\n",
        "将上步ROI区域内的卫星地图下载为.tif格式,并自动为地图分配投影坐标\n"
      ],
      "metadata": {
        "id": "ZD2iWMZr5eAY"
      }
    },
    {
      "cell_type": "code",
      "source": [
        "image = \"ROImage.tif\"  # 地图名,可手动修改"
      ],
      "metadata": {
        "id": "0KSfFDGi5hTL"
      },
      "execution_count": null,
      "outputs": []
    },
    {
      "cell_type": "code",
      "source": [
        "# image = 'path/image.tif'  # 也可以使用本地遥感图像"
      ],
      "metadata": {
        "id": "ys9fE3zi5hb7"
      },
      "execution_count": null,
      "outputs": []
    },
    {
      "cell_type": "markdown",
      "source": [
        "使用软件包中tms_to_geotiff()函数将卫星影像输出为.tif格式\n",
        "\n",
        "参数设置:\n",
        "1.   列表项\n",
        "2.   列表项\n",
        "\n",
        "结果会保存至云盘中,也可以导出到本地,在ArcMap、Envi、QGIS软件进行查看和操作"
      ],
      "metadata": {
        "id": "041IMEq95hmo"
      }
    },
    {
      "cell_type": "code",
      "source": [
        "tms_to_geotiff(output=image, bbox=bbox, zoom=20, source=\"Satellite\", overwrite=True)"
      ],
      "metadata": {
        "id": "CzR32UKA5ngU"
      },
      "execution_count": null,
      "outputs": []
    },
    {
      "cell_type": "markdown",
      "source": [
        "查看下载的影像"
      ],
      "metadata": {
        "id": "ZoSpd5HP5qB9"
      }
    },
    {
      "cell_type": "code",
      "source": [
        "m.layers[-1].visible = False  # 关闭卫星底图,从而更直观地查看影像位置\n",
        "m.add_raster(image, layer_name=\"Image\")\n",
        "m"
      ],
      "metadata": {
        "id": "PZaJ6wQc5rQB"
      },
      "execution_count": null,
      "outputs": []
    },
    {
      "cell_type": "markdown",
      "source": [
        "# 4.SAM分割\n",
        "完成SAM模型的搭建、影像分割、结果查看并保存为.shp矢量格式和.tif栅格灰度图格式,便于在ArcGIS等软件下执行操作"
      ],
      "metadata": {
        "id": "ArR6eriW52Ck"
      }
    },
    {
      "cell_type": "markdown",
      "source": [
        "① SAM模型初始化\n",
        "\n",
        "默认下载并使用SAM中的\"vit_h\"模型,执行分割任务"
      ],
      "metadata": {
        "id": "a-5f2_YH541h"
      }
    },
    {
      "cell_type": "code",
      "source": [
        "sam = SamGeo(\n",
        "    model_type=\"vit_h\",\n",
        "    checkpoint=\"sam_vit_h_4b8939.pth\",\n",
        "    sam_kwargs=None,\n",
        ")"
      ],
      "metadata": {
        "id": "7r6FcgkI55DG"
      },
      "execution_count": null,
      "outputs": []
    },
    {
      "cell_type": "markdown",
      "source": [
        "② 影像分割\n",
        "\n",
        "建议在GPU环境下运行,加快运行效率,运行时间根据图像的大小会有差别\n",
        "\n",
        "参数设置中:\n",
        "1. 将batch参数设置为True,即对原图像进行分块分割,防止输入图像过大造成运行效率降低\n",
        "2. 将erosion_kernel侵蚀单元设为3×3,mask灰度图的值域设为0-255"
      ],
      "metadata": {
        "id": "7sH3Yi6_55OR"
      }
    },
    {
      "cell_type": "code",
      "source": [
        "mask = \"segment.tif\"\n",
        "sam.generate(\n",
        "    image, mask, batch=True, foreground=True, erosion_kernel=(3, 3), mask_multiplier=255\n",
        ")"
      ],
      "metadata": {
        "id": "to-QrQ-K55Ux"
      },
      "execution_count": null,
      "outputs": []
    },
    {
      "cell_type": "markdown",
      "source": [
        "③ 将分割结果保持为.shp矢量文件"
      ],
      "metadata": {
        "id": "GpnNhMtL6BJe"
      }
    },
    {
      "cell_type": "code",
      "source": [
        "shapefile = \"segment.shp\"\n",
        "sam.tiff_to_vector(mask, shapefile)"
      ],
      "metadata": {
        "id": "utgwEWIw6BTr"
      },
      "execution_count": null,
      "outputs": []
    },
    {
      "cell_type": "markdown",
      "source": [
        "④ 云端查看分割结果"
      ],
      "metadata": {
        "id": "dm0P3PlK6ETR"
      }
    },
    {
      "cell_type": "code",
      "source": [
        "style = {\n",
        "    \"color\": \"#3388ff\",\n",
        "    \"weight\": 2,\n",
        "    \"fillColor\": \"#7c4185\",\n",
        "    \"fillOpacity\": 0.5,\n",
        "}\n",
        "m.add_vector(shapefile, layer_name=\"Vector\", style=style)\n",
        "m"
      ],
      "metadata": {
        "id": "AdO_Z5wp6Eey"
      },
      "execution_count": null,
      "outputs": []
    }
  ]
}